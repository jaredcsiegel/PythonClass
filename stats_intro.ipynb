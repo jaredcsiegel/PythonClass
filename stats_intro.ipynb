{
 "cells": [
  {
   "cell_type": "markdown",
   "id": "2b941761",
   "metadata": {},
   "source": [
    "### Probability rules\n",
    "\n",
    "If $A$ is a random varianble, it is described by the probability density function (pdf) $p(A)$, which obeys:\n",
    "$$\\int dA \\cdot p(A)=1$$\n",
    "\n",
    "The probability that $A$ is between $x_1$ and $x_2$ is,\n",
    "$$p(x_1\\leq A \\leq x_2) = \\int_{x_1}^{x_2} dA \\cdot p(A)$$\n",
    "\n",
    "Conditional probability (of $A$ given $B$):\n",
    "$$p(A \\mid B)$$\n",
    "$$p(A \\mid B) \\neq p(B \\mid A)$$\n",
    "\n",
    "Joint probability (of $A$ and $B$):\n",
    "$$p(A \\cap B) \\equiv p(A, B) = p(A \\mid B ) \\cdot p(B)$$ \n",
    "\n",
    "\n",
    "If $A$ and $B$ are independent:\n",
    "$$p(A,B)=p(A) \\cdot p(B)$$\n",
    "\n",
    "Marginalization:\n",
    "$$p(A)=\\int dB \\cdot p(A \\mid B) \\cdot p(B)$$"
   ]
  },
  {
   "cell_type": "markdown",
   "id": "39d0e965",
   "metadata": {},
   "source": [
    "### Bayes' Theorem\n",
    "\n",
    "$$p(\\theta \\mid D) = \\frac{p(D \\mid \\theta) \\cdot p(\\theta)}{p(D)} $$ \n",
    "\n",
    "$D$: the data\n",
    "\n",
    "$\\theta$: the model\n",
    "\n",
    "$ p(\\theta \\mid D)$: posterior proability of $\\theta$\n",
    "\n",
    "$ p(D \\mid \\theta)$: likelihood\n",
    "\n",
    "$ p(\\theta)$: prior probability of $\\theta$\n",
    "\n",
    "$p(D)$: evidence (normalization constant that often can be neglected)\n",
    "\n",
    "#### What if we have more than one conditional? In that case:\n",
    "\n",
    "$$p(\\theta \\mid D, B) = \\frac{p(D \\mid \\theta, B) \\cdot p(\\theta \\mid B)}{p(D \\mid B)} $$ "
   ]
  },
  {
   "cell_type": "markdown",
   "id": "5b389790",
   "metadata": {},
   "source": [
    "### Application to planets\n",
    "\n",
    "#### Consider a sample of $N$ transiting planets. \n",
    "\n",
    "Each planet has *true* (aka. intrinsic) properties, including radius, mass, and orbital period. The list of true planet properties for the $i$th planet in our sample is denoted as, \n",
    "$$\\vec{x}_i = \\{ R_i, P_i, M_i\\}$$\n",
    "\n",
    "Using Kepler (or any transit facility), we obtain a set of *observed* properties for the $i$th planet. These observed properties are denoted as,\n",
    "$$ \\vec{w}_i = \\{ \\hat{R_i}, \\hat{P_i}, \\hat{M_i} \\}$$\n",
    "\n",
    "#### How are $\\vec{x}_i$ and $\\vec{w}_i$ related? \n",
    "\n",
    "The observed properties $\\vec{w}_i$ (along with their measurement uncertainties) can be used to define pdfs for the true properties  $\\vec{x}_i$ (or vice versa).\n",
    "\n",
    "For example, if the true radius is $R_i$ and we have a Gaussian measurement uncertainty of $\\sigma_{R_i}$ for the $i$th planet, the pdf of the measured radius $\\hat{R}_i$ is\n",
    "$$ p(\\hat{R}_i \\mid R_i, \\sigma_{R_i}) = N( \\hat{R}_i \\mid R_i, \\sigma_{R_i} ) ~~~~~~~ (1)$$ \n",
    "Here, we have made the common assumption that the measurement uncertainties describe a Gaussian distribution centered at $R_i$ with a standard deviation of $\\sigma_{R_i}$. We denote this Gaussian distribution as $N( \\hat{R}_i \\mid R_i, \\sigma_{R_i} )$.\n",
    "\n",
    "#### What if we have a prior on $\\vec{x}_i$?\n",
    "\n",
    "Based on prior observations or theoretical models, we may expect certain planet properties to be more likely than others. \n",
    "\n",
    "In the case of planet radius, we denote the prior on true radius as $p(R \\mid \\theta)$, where $\\theta$ is a vector containing the parameters of the prior. The prior $p(R \\mid \\theta)$ describes the underlying distribution of planet radii. For instance, the prior could be a power law, in which case\n",
    "$$ p(R \\mid \\theta) \\propto R^{\\gamma}, ~~ \\theta = \\{\\gamma\\} ~~~~~~~ (2)  $$\n",
    "\n",
    "Including the prior, the joint probability of the true radius and $\\theta$ is (using Bayes' theorem and dropping the normalization constant)\n",
    "$$ p(R_i, \\theta \\mid \\hat{R_i}, \\sigma_{R_i}) \\propto p(\\hat{R_i} \\mid R_i, \\sigma_{R_i}, \\theta) \\cdot p(R_i , \\theta \\mid  \\sigma_{R_i}) ~~~~~~~ (3) $$ \n",
    "\n",
    "We first notice, $p(\\hat{R_i} \\mid R_i, \\sigma_{R_i}, \\theta) = p(\\hat{R_i} \\mid R_i, \\sigma_{R_i})$, because the measurement uncertainty distribution is independent of $\\theta$. Similarly, $p(R_i , \\theta \\mid  \\sigma_{R_i})  = p(R_i , \\theta )$.  We also know $p(R_i , \\theta) = p(R_i \\mid \\theta) p(\\theta)$, using the definition of a joint probability. The above equation thereby simplifies to,\n",
    "$$ p(R_i, \\theta \\mid \\hat{R_i}, \\sigma_{R_i}) \\propto p(\\hat{R_i} \\mid R_i, \\sigma_{R_i}) \\cdot p(R_i \\mid \\theta) \\cdot p(\\theta) ~~~~~~~ (4) $$ \n",
    "\n",
    "Note: Here we used radius, but the same applies to the general set of intrinsic properties $\\vec{x}_i$."
   ]
  },
  {
   "cell_type": "markdown",
   "id": "7060fc5b",
   "metadata": {},
   "source": [
    "### Let's visualize the equation 4 for a single planet\n",
    "\n",
    "(Try changing $\\gamma$ to see the dependence of the posterior on the prior)"
   ]
  },
  {
   "cell_type": "code",
   "execution_count": 1,
   "id": "85752902",
   "metadata": {},
   "outputs": [],
   "source": [
    "# imports\n",
    "import numpy as np\n",
    "import matplotlib.pyplot as plt\n",
    "\n",
    "# pdfs\n",
    "def gaussian(x,mu,sigma):\n",
    "    \n",
    "    # mu: center of the Gaussian\n",
    "    # sigma: standard deviation of the Gaussian\n",
    "    \n",
    "    return np.exp( -np.power(x-mu,2) / sigma**2 ) / np.sqrt(2*np.pi * sigma**2)\n",
    "\n",
    "def power_law(x,gamma,lower,upper):\n",
    "    \n",
    "    # gamma: index of the power law\n",
    "    # lower: lower bound of the x-range (used to normalize the pdf)\n",
    "    # upper: upper bound of the x-range (used to normalize the pdf)\n",
    "\n",
    "    C = ( upper**(gamma+1) / (gamma+1) ) - ( lower**(gamma+1) / (gamma+1) )\n",
    "\n",
    "    return x ** gamma / C"
   ]
  },
  {
   "cell_type": "code",
   "execution_count": 2,
   "id": "b5d7c81e",
   "metadata": {},
   "outputs": [],
   "source": [
    "# lets define the paramters of our example\n",
    "\n",
    "lower = .3 # lower bound of the x-range in Rearth (used to normalize the pdfs)\n",
    "upper = 4. # upper bound of the x-range in Rearth (used to normalize the pdfs)\n",
    "\n",
    "gamma   = -2   # index of the power law\n",
    "r_true  = 1    # true radius of the planet\n",
    "r_sigma = .3   # radius measurement uncertainty"
   ]
  },
  {
   "cell_type": "code",
   "execution_count": 3,
   "id": "4a50aed7",
   "metadata": {},
   "outputs": [],
   "source": [
    "# x data to plot (in units of Rearth)\n",
    "xp = np.linspace(lower,upper,100)\n",
    "\n",
    "# lets evaulate the pdfs to calculate the posterior\n",
    "\n",
    "prior_yp = power_law(xp, gamma,lower,upper) # prior on Rtrue\n",
    "\n",
    "likelihood_yp = gaussian(xp,r_true,r_sigma) # likelihood of Robs\n",
    "\n",
    "posterior_yp  = prior_yp * likelihood_yp\n",
    "\n",
    "# we need to normalize the posterior (so that it integrates to 1)\n",
    "posterior_yp /= np.trapz(posterior_yp,xp)\n",
    "\n",
    "# (for simplicity, we set a uniform prior on the power law parameters, \n",
    "#  which is essentially a constant)"
   ]
  },
  {
   "cell_type": "code",
   "execution_count": 4,
   "id": "3b51077e",
   "metadata": {},
   "outputs": [
    {
     "data": {
      "image/png": "[encoded data removed]",
      "text/plain": [
       "<Figure size 432x288 with 1 Axes>"
      ]
     },
     "metadata": {
      "needs_background": "light"
     },
     "output_type": "display_data"
    }
   ],
   "source": [
    "plt.plot(xp,prior_yp,label='Prior',linewidth=3)\n",
    "plt.plot(xp,likelihood_yp,label='Likelihood',linewidth=3)\n",
    "plt.plot(xp,posterior_yp,label='Posterior',linewidth=3)\n",
    "\n",
    "fontsize = 20\n",
    "_ = plt.tick_params(axis='both', which='major', labelsize=fontsize,length=10,width=2)\n",
    "_ = plt.tick_params(axis='both', which='minor', labelsize=fontsize,length=3,width=1)\n",
    "_ = plt.xlabel('Radius ($R_{\\oplus}$)',fontsize=fontsize)\n",
    "_ = plt.ylabel('PDF/$R_{\\oplus}$',fontsize=fontsize)\n",
    "_ = plt.xlim([lower,upper])\n",
    "_ = plt.ylim([0,None])\n",
    "_ = plt.legend(fontsize=fontsize-5)"
   ]
  },
  {
   "cell_type": "markdown",
   "id": "7645b167",
   "metadata": {},
   "source": [
    "### How do we generalize to multiple planets?\n",
    "\n",
    "For a sample of $N$ planets, the collection of true planet radii is denoted as\n",
    "$$\\{ R_1, \\dots, R_N \\} $$\n",
    "\n",
    "Using this notation, we rewrite equation 4 as\n",
    "$$ p( \\{R_i\\}, \\theta \\mid \\{ \\hat{R_i} \\} , \\{ \\sigma_{R_i} \\} ) \\propto p( \\{ \\hat{R_i} \\} \\mid \\{ R_i \\} , \\{ \\sigma_{R_i} \\} ) \\cdot p( \\{ R_i \\} \\mid \\theta) \\cdot p(\\theta) ~~~~~~~ (5) $$ \n",
    "\n",
    "Recall that for two independent random variables A and B,\n",
    "$$p(A,B) = p(A) \\cdot p(B)$$\n",
    "\n",
    "Assuming the planet detections are independent (which is generally a safe assumption), we see\n",
    "\n",
    "$$ p( \\{ \\hat{R_i} \\} \\mid \\{ R_i \\} , \\{ \\sigma_{R_i} \\} ) = \\prod_i p( \\hat{R_i} \\mid  R_i  , \\sigma_{R_i} ) $$ \n",
    "\n",
    "and since the prior model treats each planet independently,\n",
    "$$ p( \\{ R_i \\} \\mid \\theta) = \\prod_i p( R_i  \\mid \\theta) $$ \n",
    "\n",
    "We therefore arrive at,\n",
    "$$ p( \\{R_i\\}, \\theta \\mid \\{ \\hat{R_i} \\} , \\{ \\sigma_{R_i} \\} ) \\propto p(\\theta) \\prod_i p( \\hat{R_i} \\mid  R_i  , \\sigma_{R_i} ) \\cdot p( R_i  \\mid \\theta) ~~~~~~~ (6) $$ \n",
    "\n",
    "Using equation 6, we can simulaneously infer the true radius for each planet in our sample, as well as the shape of the underlying radius distribution!"
   ]
  },
  {
   "cell_type": "markdown",
   "id": "adf91336",
   "metadata": {},
   "source": [
    "### Let's visualize this!\n",
    "\n",
    "We will generate a sample of planets, where the underlying distribution of planet radii is a power law distribution.\n",
    "\n",
    "For computational efficiency, lets only infer $\\gamma$ (the power law index). To do this, we need to *marginalize* over the true radii $ \\{ R_i \\}$. Recall that for two random variables $A$ and $B$ marginalziation is,\n",
    "$$p(A)=\\int dB \\cdot p(A , B)$$\n",
    "\n",
    "So marginalizing equation 6, we find\n",
    "$$ p( \\theta \\mid \\{ \\hat{R_i} \\} , \\{ \\sigma_{R_i} \\} ) \\propto p(\\theta) \\prod_i \\int dR \\cdot p( \\hat{R_i} \\mid  R_i  , \\sigma_{R_i} ) \\cdot p( R_i  \\mid \\theta) ~~~~~~~ (7) $$ "
   ]
  },
  {
   "cell_type": "markdown",
   "id": "aca54070",
   "metadata": {},
   "source": [
    "First we need to draw the true planet radii and the observed planet radii..."
   ]
  },
  {
   "cell_type": "code",
   "execution_count": 5,
   "id": "76bffe2f",
   "metadata": {},
   "outputs": [],
   "source": [
    "N = 300 # number of planets in our catalog\n",
    "\n",
    "# parameters for the underlying distribution of planet radii\n",
    "lower = 1 # lower bound of the x-range in Rearth (used to normalize the pdfs)\n",
    "upper = 5. # upper bound of the x-range in Rearth (used to normalize the pdfs)\n",
    "\n",
    "gamma_true = -1.1   # index of the power law\n",
    "\n",
    "# lets draw the true planet radii (using trial rejection)\n",
    "R_true = []\n",
    "while len(R_true) < N:\n",
    "    x_rv = np.random.uniform(lower,upper)\n",
    "    y_rv = np.random.uniform(0,10)\n",
    "    if y_rv < power_law(x_rv,gamma_true,lower,upper):\n",
    "        R_true.append(x_rv)\n",
    "        \n",
    "R_true = np.array(R_true)\n",
    "\n",
    "# lets draw the measured planet radii\n",
    "sigma_meas = 0.1 # typical measurement uncertainty\n",
    "R_obs = R_true + np.random.normal(0, sigma_meas, size = N)"
   ]
  },
  {
   "cell_type": "code",
   "execution_count": 6,
   "id": "65dbb485",
   "metadata": {},
   "outputs": [
    {
     "data": {
      "image/png": "[encoded data removed]",
      "text/plain": [
       "<Figure size 432x288 with 1 Axes>"
      ]
     },
     "metadata": {
      "needs_background": "light"
     },
     "output_type": "display_data"
    }
   ],
   "source": [
    "plt.hist(R_true,label='$\\{ R \\}$',linewidth=3,range=[1,5],bins=20,histtype='step',density=True)\n",
    "plt.hist(R_obs,label='$\\{ \\hat{R} \\}$',linewidth=3,range=[1,5],bins=20,histtype='step',density=True)\n",
    "\n",
    "fontsize = 20\n",
    "_ = plt.tick_params(axis='both', which='major', labelsize=fontsize,length=10,width=2)\n",
    "_ = plt.tick_params(axis='both', which='minor', labelsize=fontsize,length=3,width=1)\n",
    "_ = plt.xlabel('Radius ($R_{\\oplus}$)',fontsize=fontsize)\n",
    "_ = plt.ylabel('PDF/$R_{\\oplus}$',fontsize=fontsize)\n",
    "_ = plt.ylim([0,None])\n",
    "_ = plt.legend(fontsize=fontsize-5)"
   ]
  },
  {
   "cell_type": "markdown",
   "id": "e682649e",
   "metadata": {},
   "source": [
    "Now lets infer the power law index using equation 7.\n",
    "\n",
    "How do we do this? Monte Carlo simulations.\n",
    "\n",
    "For a single trial, we will draw a value for $\\gamma$ from a uniform distribution (because we are adopting a uniform prior on $\\gamma$). We then evaluate equation 7 using this value of $\\gamma$. By doing this for many trials, we can infer the posterior distribution for $\\gamma$ by weighting all the drawn $\\gamma$s by their corresponding probabilities from equation 7.\n",
    "\n",
    "(the cell below takes ~15 seconds to run)"
   ]
  },
  {
   "cell_type": "code",
   "execution_count": 7,
   "id": "1543e21c",
   "metadata": {},
   "outputs": [
    {
     "name": "stdout",
     "output_type": "stream",
     "text": [
      "Run time: 17.2s\n"
     ]
    }
   ],
   "source": [
    "import timeit\n",
    "start = timeit.default_timer()\n",
    "\n",
    "Ntrials    = 500\n",
    "posteriors = []\n",
    "trials     = []\n",
    "\n",
    "integration_array = np.linspace(lower-sigma_meas*5,upper+sigma_meas*5,2000) \n",
    "\n",
    "for i in range(Ntrials):\n",
    "    \n",
    "    # draw our guess\n",
    "    gamma_guess  = np.random.uniform(-2.,-0.)\n",
    "    \n",
    "    # evaulate the pdfs\n",
    "    posterior = 1\n",
    "    for R_obs_i in R_obs:\n",
    "        prior = power_law(integration_array, gamma_guess, lower,upper) # prior on Rtrue\n",
    "\n",
    "        likelihood = gaussian(R_obs_i,integration_array,r_sigma) # likelihood of Robs\n",
    "\n",
    "        posterior *= np.trapz( prior * likelihood, integration_array )\n",
    "    trials.append( gamma_guess )    \n",
    "    posteriors.append( posterior )\n",
    "trials = np.array(trials)\n",
    "posteriors = np.array(posteriors)\n",
    "\n",
    "print( 'Run time: {:.3}s'.format( timeit.default_timer() - start ) )"
   ]
  },
  {
   "cell_type": "code",
   "execution_count": 8,
   "id": "9c23c9fd",
   "metadata": {},
   "outputs": [
    {
     "data": {
      "image/png": "[encoded data removed]",
      "text/plain": [
       "<Figure size 432x288 with 1 Axes>"
      ]
     },
     "metadata": {
      "needs_background": "light"
     },
     "output_type": "display_data"
    }
   ],
   "source": [
    "plt.hist(trials, weights = posteriors, label='Posterior on $\\gamma$',linewidth=3,range=[-2,-0],bins=15,histtype='step',density=True)\n",
    "plt.hist(trials,label='Prior on $\\gamma$',linewidth=3,range=[-2,-0],bins=15,histtype='step',density=True)\n",
    "plt.axvline(gamma_true,linestyle='--',color='k')\n",
    "\n",
    "fontsize = 20\n",
    "_ = plt.tick_params(axis='both', which='major', labelsize=fontsize,length=10,width=2)\n",
    "_ = plt.tick_params(axis='both', which='minor', labelsize=fontsize,length=3,width=1)\n",
    "_ = plt.xlabel('$\\gamma$',fontsize=fontsize)\n",
    "_ = plt.ylabel('PDF',fontsize=fontsize)\n",
    "_ = plt.ylim([0,None])\n",
    "_ = plt.legend(fontsize=fontsize-5,loc='best')"
   ]
  },
  {
   "cell_type": "markdown",
   "id": "92bce563",
   "metadata": {},
   "source": [
    "### Mixture models\n",
    "\n",
    "What if our data set is drawn from two (or more) underyling distributions? If this is the case, then a single-component model will be inadequate. We need a model where some planets are drawn from one underlying distribution and the other planets are drawn from another distribution. For example, the masses (and radii) of rocky planets are likely drawn from a different distribution than gaseous planets."
   ]
  },
  {
   "cell_type": "markdown",
   "id": "feabb04b",
   "metadata": {},
   "source": [
    "#### Rederiving equation 6 as a mixture model\n",
    "\n",
    "Consider a population of planets with two underlying sub-populations (e.g., small planets and large planets). For convenience, we will assume the underyling radius distribution for each component is a Gaussian. \n",
    "\n",
    "Let's index the components by 0 and 1. For planet $i$, we denote it's membership in either the 0th or 1st component, by the index $q_i$. If $q_i=0$ then the planet is in the 0th component, and if $q_i=1$ then the planet is in the 1st component.\n",
    "\n",
    "For $q_i=0$, we adopt a prior on true radius of:\n",
    "\n",
    "$$ p(R_i \\mid \\mu_0, \\sigma_0) = N(R_i \\mid \\mu_0, \\sigma_0) \\propto \\exp \\Bigg( -\\frac{(R_i-\\mu_0)^2}{\\sigma_0^2} \\Bigg)$$ \n",
    "\n",
    "For $q_i=1$, we adopt a prior on true radius of:\n",
    "\n",
    "$$ p(R_i \\mid \\mu_1, \\sigma_1) = N(R_i \\mid \\mu_1, \\sigma_1) \\propto \\exp \\Bigg( -\\frac{(R_i-\\mu_1)^2}{\\sigma_1^2} \\Bigg)$$ \n",
    "\n",
    "We can rewrite the above priors as a single function, by adding a dependence on $q_i$:\n",
    "\n",
    "$$  p(R_i \\mid \\mu_i, \\sigma_i, q_i)=   \\left\\{\n",
    "\\begin{array}{ll}\n",
    "      N(R_i \\mid \\mu_0, \\sigma_0), & q_i=0 \\\\\n",
    "      N(R_i \\mid \\mu_1, \\sigma_1), & q_i=1\\\\\n",
    "\\end{array} \n",
    "\\right.  $$\n",
    "\n",
    "We can now generalize equation 6 (the joint posterior on true radii and prior parameters for a sample of planets), to the case of two underlying distributions:\n",
    "$$ p( \\{R_i\\}, \\theta \\mid \\{ \\hat{R_i} \\} , \\{ \\sigma_{R_i} \\}, \\{ q_i \\} ) \\propto p(\\theta) \\prod_i p( \\hat{R_i} \\mid  R_i  , \\sigma_{R_i} ) \\cdot p( R_i  \\mid \\theta, q_i) ~~~~~~~ (8) $$ \n",
    "\n",
    "where $\\theta = \\{ \\mu_0,\\mu_1,\\sigma_0,\\sigma_1 \\}$. Notice, all we have done here is add dependence on $q_i$.\n",
    "\n",
    "#### What if we do not know all the $q_i$?\n",
    "\n",
    "Evaluating equation 8 relies on knowing $q_i$ for each planet in our sample (i.e., we would need to know which sub-population each planet belongs to). However, we do not usually know all the $q_i$ (this is something we wish to infer).\n",
    "\n",
    "We can solve our problem by marginalizing equation 8.\n",
    "\n",
    "$$ p( \\{R_i\\}, \\theta \\mid \\{ \\hat{R_i} \\} , \\{ \\sigma_{R_i} \\}) \\propto p(\\theta) \\prod_i  \\sum_{ q_i \\in \\{0,1\\} } p(q_i)  \\cdot p( \\hat{R_i} \\mid  R_i  , \\sigma_{R_i} ) \\cdot p( R_i  \\mid \\theta, q_i) ~~~~~~~ (9) $$ \n",
    "\n",
    "where $p(q_i)$ is the prior on $q_i$. Often, $p(q_i)$ is assumed to be the same for every data point, in which case,\n",
    "$$  p( q_i)=   \\left\\{\n",
    "\\begin{array}{ll}\n",
    "      Q, & q_i=0 \\\\\n",
    "      1-Q, & q_i=1\\\\\n",
    "\\end{array} \n",
    "\\right.  $$\n",
    "where $Q\\in[0,1]$\n",
    "\n",
    "Note, in going from equation 8 to equation 9, I have skipped 1-2 steps for clarity. A more complete derivation is available [here](https://dfm.io/posts/mixture-models/)."
   ]
  },
  {
   "cell_type": "markdown",
   "id": "658574ab",
   "metadata": {},
   "source": [
    "### Let's visualize this!\n",
    "\n",
    "We will generate a sample of planets, with two underlying distributions of planet radii (two Gaussians).\n",
    "\n",
    "For computational efficiency, lets only infer $\\mu_0$, $\\mu_1$, and $Q$ (the centers of the Gaussians and the fraction of planets in component 0). We will leave the width of the Gaussians fixed. To do this, we again need to marginalize over the true radii $ \\{ R_i \\}$.\n",
    "\n",
    "Marginalizing equation 9, we find\n",
    "$$ p( \\theta \\mid \\{ \\hat{R_i} \\} , \\{ \\sigma_{R_i} \\}) \\propto p(\\theta) \\prod_i  \\sum_{ q_i \\in \\{0,1\\} } \\int dR \\cdot p(q_i)  \\cdot p( \\hat{R_i} \\mid  R_i  , \\sigma_{R_i} ) \\cdot p( R_i  \\mid \\theta, q_i) ~~~~~~~ (10) $$ \n",
    "\n",
    "where $\\theta = \\{ \\mu_0,\\mu_1,Q \\}$."
   ]
  },
  {
   "cell_type": "code",
   "execution_count": 9,
   "id": "966b299e",
   "metadata": {},
   "outputs": [],
   "source": [
    "N = 40 # number of planets in our catalog (per component)\n",
    "\n",
    "# parameters for the underlying distribution of planet radii\n",
    "lower = 1 # lower bound of the x-range in Rearth (used to normalize the pdfs)\n",
    "upper = 5. # upper bound of the x-range in Rearth (used to normalize the pdfs)\n",
    "\n",
    "mu_true_0 = 1.5  # center of the first Gaussian\n",
    "mu_true_1 = 4    # center of the second Gaussian\n",
    "\n",
    "SIGMA = 0.4 # width of the two Gaussians (which we will leave fixed)\n",
    "\n",
    "# lets draw the true planet radii (assuming Q = 0.5)\n",
    "R_true    = []\n",
    "Comp_true = []\n",
    "for k,mu_true in enumerate([mu_true_0,mu_true_1]): # loop over the different components\n",
    "    found = 0\n",
    "    while found < N:\n",
    "        x_rv = np.random.normal(mu_true,SIGMA)\n",
    "        if x_rv > 0:\n",
    "            R_true.append(x_rv)\n",
    "            Comp_true.append(k)\n",
    "            found += 1\n",
    "R_true = np.array(R_true)\n",
    "Comp_true = np.array(Comp_true)\n",
    "\n",
    "# lets draw the measured planet radii\n",
    "sigma_meas = 0.1 # typical measurement uncertainty\n",
    "R_obs = R_true + np.random.normal(0, sigma_meas, size = len(R_true) )"
   ]
  },
  {
   "cell_type": "code",
   "execution_count": 14,
   "id": "0042fc29",
   "metadata": {},
   "outputs": [
    {
     "data": {
      "image/png": "[encoded data removed]",
      "text/plain": [
       "<Figure size 432x288 with 1 Axes>"
      ]
     },
     "metadata": {
      "needs_background": "light"
     },
     "output_type": "display_data"
    }
   ],
   "source": [
    "for k in np.unique(Comp_true):\n",
    "    plt.hist(R_true[Comp_true==k],label=k,linewidth=3,range=[1,5],bins=20,histtype='step',density=True)\n",
    "\n",
    "fontsize = 20\n",
    "_ = plt.tick_params(axis='both', which='major', labelsize=fontsize,length=10,width=2)\n",
    "_ = plt.tick_params(axis='both', which='minor', labelsize=fontsize,length=3,width=1)\n",
    "_ = plt.xlabel('Radius ($R_{\\oplus}$)',fontsize=fontsize)\n",
    "_ = plt.ylabel('PDF/$R_{\\oplus}$',fontsize=fontsize)\n",
    "_ = plt.ylim([0,None])\n",
    "_ = plt.legend(fontsize=fontsize-5)"
   ]
  },
  {
   "cell_type": "markdown",
   "id": "78953ffa",
   "metadata": {},
   "source": [
    "Now lets infer $\\theta$ using equation 10.\n",
    "\n",
    "We will again draw random values for $\\theta$ and evaluate equation 10 at these values. We can then infer the posterior distributions for $\\mu_0$, $\\mu_1$, and $Q$ by weighting all the drawn $\\theta$s by their corresponding probabilities from equation 10.\n",
    "\n",
    "(the cell below takes ~60 seconds to run)\n",
    "\n",
    "(the tqdm package is a progress bar)"
   ]
  },
  {
   "cell_type": "code",
   "execution_count": 15,
   "id": "30747415",
   "metadata": {},
   "outputs": [
    {
     "name": "stderr",
     "output_type": "stream",
     "text": [
      "100%|███████████████████████████████████████| 5000/5000 [02:18<00:00, 36.07it/s]\n"
     ]
    }
   ],
   "source": [
    "from tqdm import tqdm\n",
    "\n",
    "Ntrials    = 5000\n",
    "posteriors = []\n",
    "trials     = []\n",
    "\n",
    "integration_array = np.linspace(lower-sigma_meas*5,upper+sigma_meas*5,2000) \n",
    "\n",
    "for i in tqdm(range(Ntrials)):\n",
    "    \n",
    "    # draw our guesses\n",
    "    mu_guess  = [np.random.uniform(1,2),np.random.uniform(3.5,4.5)]\n",
    "    q_guess   = np.random.uniform(0,1)\n",
    "    \n",
    "    # evaulate the pdfs\n",
    "    Posterior = 1\n",
    "    for R_obs_i in R_obs:\n",
    "    \n",
    "        posterior = 0\n",
    "        for mu,q in zip(mu_guess,[q_guess,1-q_guess]):\n",
    "            prior = gaussian(integration_array, mu, SIGMA) # prior on Rtrue\n",
    "    \n",
    "            likelihood = gaussian(R_obs_i,integration_array,r_sigma) # likelihood of Robs\n",
    "            \n",
    "            # let's limit the minimum values of the pdfs to prevent them evaluating to 0\n",
    "            # this is for computational efficiency only\n",
    "            prior[prior < 1e-4] = 1e-4\n",
    "            likelihood[likelihood < 1e-4] = 1e-4\n",
    "\n",
    "            posterior += q * np.trapz( prior * likelihood, integration_array )\n",
    "        Posterior *= posterior\n",
    "     \n",
    "    trials.append( np.append(mu_guess,q_guess) )    \n",
    "    posteriors.append( Posterior )\n",
    "trials = np.array(trials)\n",
    "posteriors = np.array(posteriors)"
   ]
  },
  {
   "cell_type": "markdown",
   "id": "73e5c1af",
   "metadata": {},
   "source": [
    "First let's plot the posterior on $Q$ (the fraction of planets in component 0).\n",
    "\n",
    "The true value of $Q$ for our simulation is 0.5."
   ]
  },
  {
   "cell_type": "code",
   "execution_count": 18,
   "id": "dd6f3214",
   "metadata": {},
   "outputs": [
    {
     "data": {
      "image/png": "[encoded data removed]",
      "text/plain": [
       "<Figure size 432x288 with 1 Axes>"
      ]
     },
     "metadata": {
      "needs_background": "light"
     },
     "output_type": "display_data"
    }
   ],
   "source": [
    "plt.hist(trials[:,2],weights=posteriors,linewidth=3,range=[0,1],bins=20,histtype='step',density=True)\n",
    "\n",
    "fontsize = 20\n",
    "_ = plt.tick_params(axis='both', which='major', labelsize=fontsize,length=10,width=2)\n",
    "_ = plt.tick_params(axis='both', which='minor', labelsize=fontsize,length=3,width=1)\n",
    "_ = plt.xlabel('$Q$',fontsize=fontsize)\n",
    "_ = plt.ylabel('PDF',fontsize=fontsize)\n",
    "_ = plt.ylim([0,None])"
   ]
  },
  {
   "cell_type": "markdown",
   "id": "93164985",
   "metadata": {},
   "source": [
    "Next let's plot the posteriors on $\\mu_0$ and $\\mu_1$. We'll do this using a 2D histogram.\n",
    "\n",
    "The true values of $\\mu_0$ and $\\mu_1$ are shown as dashed lines."
   ]
  },
  {
   "cell_type": "code",
   "execution_count": 13,
   "id": "7aab8c39",
   "metadata": {},
   "outputs": [
    {
     "data": {
      "image/png": "[encoded data removed]",
      "text/plain": [
       "<Figure size 432x288 with 1 Axes>"
      ]
     },
     "metadata": {
      "needs_background": "light"
     },
     "output_type": "display_data"
    }
   ],
   "source": [
    "from matplotlib.colors import LogNorm\n",
    "H, xbins, ybins = np.histogram2d(trials[:,0], trials[:,1], \n",
    "    weights=posteriors, bins=[12,12])\n",
    "\n",
    "H = np.rot90(H); H = np.flipud(H); \n",
    "\n",
    "X,Y = np.meshgrid(xbins[:-1],ybins[:-1]) \n",
    "\n",
    "H = H/np.sum(H)        \n",
    "Hmask = np.ma.masked_where(H==0,H)\n",
    "\n",
    "cmin = 1e-4; cmax = 1.0\n",
    "vmin=cmin*np.max(Hmask)\n",
    "vmax=cmax*np.max(Hmask)\n",
    "\n",
    "p1 = plt.pcolormesh(X, Y,(Hmask),  cmap='coolwarm', norm = LogNorm(vmin,vmax),\n",
    "    linewidth=0., shading='auto',edgecolors=None)\n",
    "p1.set_edgecolor('none')\n",
    "\n",
    "plt.axvline(mu_true_0,linestyle='--',color='k')\n",
    "plt.axhline(mu_true_1,linestyle='--',color='k')\n",
    "\n",
    "fontsize = 20\n",
    "_ = plt.tick_params(axis='both', which='major', labelsize=fontsize,length=10,width=2)\n",
    "_ = plt.tick_params(axis='both', which='minor', labelsize=fontsize,length=3,width=1)\n",
    "_ = plt.xlabel('$\\mu_0~(R_{\\oplus})$',fontsize=fontsize)\n",
    "_ = plt.ylabel('$\\mu_1~(R_{\\oplus})$',fontsize=fontsize)"
   ]
  },
  {
   "cell_type": "markdown",
   "id": "d50d50ae",
   "metadata": {},
   "source": [
    "### Resources\n",
    "\n",
    "* [General overview of statistics rules](https://machinelearningmastery.com/bayes-theorem-for-machine-learning/)\n",
    "* [Qualitative introduction to Bayes' Theorem](https://towardsdatascience.com/intro-to-bayesian-statistics-5056b43d248d)\n",
    "* [Penn State STAT 414](https://online.stat.psu.edu/stat414/book), wonderful mid-high level introduction to statstics \n",
    "\n",
    "### Textbooks (available for free... definitely not pirated)\n",
    "* Higher level textbook (Modern Mathematical Statistics with Applications, 2nd ed)\n",
    "* Introductory level textbook (OpenIntro Statistics 4th edition)"
   ]
  }
 ],
 "metadata": {
  "kernelspec": {
   "display_name": "Python 3 (ipykernel)",
   "language": "python",
   "name": "python3"
  },
  "language_info": {
   "codemirror_mode": {
    "name": "ipython",
    "version": 3
   },
   "file_extension": ".py",
   "mimetype": "text/x-python",
   "name": "python",
   "nbconvert_exporter": "python",
   "pygments_lexer": "ipython3",
   "version": "3.9.12"
  }
 },
 "nbformat": 4,
 "nbformat_minor": 5
}
